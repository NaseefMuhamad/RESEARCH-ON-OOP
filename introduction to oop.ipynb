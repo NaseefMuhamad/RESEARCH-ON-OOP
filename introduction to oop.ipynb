{
 "cells": [
  {
   "cell_type": "markdown",
   "id": "607926de",
   "metadata": {},
   "source": [
    "## OBJECT ORIENTED PROGRAMMING\n"
   ]
  },
  {
   "cell_type": "markdown",
   "id": "9b6a512c",
   "metadata": {},
   "source": [
    "Oop is programming that includes use of objects. The main aim of using oop is to bind together the data and its function so that no other part of the code can access the data accept from the function\n",
    "\n",
    "the main concepts under oop;\n",
    "\n",
    "class,object,hiding,encapsulation,polymorphisim,message passing,dynamic binding,inheritance and data abstraction\\\n"
   ]
  },
  {
   "cell_type": "markdown",
   "id": "a91423de",
   "metadata": {},
   "source": [
    "## class"
   ]
  },
  {
   "cell_type": "markdown",
   "id": "03a4f691",
   "metadata": {},
   "source": []
  }
 ],
 "metadata": {
  "language_info": {
   "name": "python"
  }
 },
 "nbformat": 4,
 "nbformat_minor": 5
}
