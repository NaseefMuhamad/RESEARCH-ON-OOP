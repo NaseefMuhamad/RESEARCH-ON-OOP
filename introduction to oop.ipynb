{
 "cells": [
  {
   "cell_type": "markdown",
   "id": "607926de",
   "metadata": {},
   "source": [
    "## OBJECT ORIENTED PROGRAMMING\n"
   ]
  },
  {
   "cell_type": "markdown",
   "id": "9b6a512c",
   "metadata": {},
   "source": [
    "Oop is programming that includes use of objects. The main aim of using oop is to bind together the data and its function so that no other part of the code can access the data accept from the function\n",
    "\n",
    "the main concepts under oop;\n",
    "\n",
    "class,object,hiding,encapsulation,polymorphisim,message passing,dynamic binding,inheritance and data abstraction\\\n"
   ]
  },
  {
   "cell_type": "markdown",
   "id": "a91423de",
   "metadata": {},
   "source": [
    "## class"
   ]
  },
  {
   "cell_type": "markdown",
   "id": "03a4f691",
   "metadata": {},
   "source": [
    "A class can be taken as a blue_print or structure of an object.\n",
    "\n",
    "An object is an instance of a class representing a real world entity with its own data and actions."
   ]
  },
  {
   "cell_type": "markdown",
   "id": "df8bfe7e",
   "metadata": {},
   "source": [
    "example of classs"
   ]
  },
  {
   "cell_type": "code",
   "execution_count": null,
   "id": "9130b5bb",
   "metadata": {},
   "outputs": [],
   "source": [
    "class Animal:\n",
    "    def __init__(self):\n",
    "        pass"
   ]
  },
  {
   "cell_type": "markdown",
   "id": "4ad5bf7a",
   "metadata": {},
   "source": [
    "## Encapsulation"
   ]
  },
  {
   "cell_type": "markdown",
   "id": "7bdde8da",
   "metadata": {},
   "source": [
    "Encapsulation is the process by which data and its method are bundled into a single unit. it restricts direct access to the internal database"
   ]
  },
  {
   "cell_type": "markdown",
   "id": "a410ed85",
   "metadata": {},
   "source": [
    "## Abstraction"
   ]
  },
  {
   "cell_type": "markdown",
   "id": "655ba9ea",
   "metadata": {},
   "source": [
    "This inolves hiding complex implimentation details and showing only the essential of an object"
   ]
  },
  {
   "cell_type": "markdown",
   "id": "be95738b",
   "metadata": {},
   "source": [
    "## Polymorphism"
   ]
  },
  {
   "cell_type": "markdown",
   "id": "02ef4a91",
   "metadata": {},
   "source": []
  },
  {
   "cell_type": "markdown",
   "id": "c5398d96",
   "metadata": {},
   "source": [
    "## Inheritance"
   ]
  },
  {
   "cell_type": "markdown",
   "id": "a37b9ce9",
   "metadata": {},
   "source": []
  }
 ],
 "metadata": {
  "language_info": {
   "name": "python"
  }
 },
 "nbformat": 4,
 "nbformat_minor": 5
}
