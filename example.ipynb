{
 "cells": [
  {
   "cell_type": "code",
   "execution_count": 5,
   "id": "7f476649",
   "metadata": {},
   "outputs": [
    {
     "name": "stdout",
     "output_type": "stream",
     "text": [
      "tractor\n",
      "x-series\n",
      "s-series\n",
      "blue\n"
     ]
    }
   ],
   "source": [
    "class car:\n",
    "    def __init__(self,make,model,year,colour):\n",
    "        self.make=make\n",
    "        self.model=model\n",
    "        self.year=year\n",
    "        self.colour=colour\n",
    "\n",
    "\n",
    "    def new_make(self,change_make):\n",
    "        self.make=change_make\n",
    "    def new_colour(self,change_colour):\n",
    "        self.colour=change_colour\n",
    "\n",
    "\n",
    "car1=car('tractor','x-series',2024,'orange')\n",
    "print(car1.make)\n",
    "print(car1.model)\n",
    "car1.new_make('s-series')\n",
    "print(car1.make)\n",
    "car1.new_colour('blue')\n",
    "print(car1.colour)"
   ]
  },
  {
   "cell_type": "code",
   "execution_count": 3,
   "id": "4c0d6eb0",
   "metadata": {},
   "outputs": [
    {
     "name": "stdout",
     "output_type": "stream",
     "text": [
      "woof\n",
      "home\n"
     ]
    }
   ],
   "source": [
    "class animal:\n",
    "    def __init__(self,name,sound,gender,shelter):\n",
    "        self.name=name\n",
    "        self.sound=sound\n",
    "        self.gender=gender\n",
    "        self.shelter=shelter\n",
    "    def new_shelter(self,change_shelter):\n",
    "        self.shelter=change_shelter\n",
    "animal1=animal('dog','woof','male','kraal')   \n",
    "print(animal1.sound) \n",
    "animal1.new_shelter('home')\n",
    "print(animal1.shelter)"
   ]
  },
  {
   "cell_type": "code",
   "execution_count": 5,
   "id": "a2c6c067",
   "metadata": {},
   "outputs": [
    {
     "name": "stdout",
     "output_type": "stream",
     "text": [
      "2\n",
      "Jinja\n",
      "the new location of the house is None is kampala\n"
     ]
    }
   ],
   "source": [
    "class RealEstate:\n",
    "    def __init__(self,price,acres,rooms,location):\n",
    "        self.price=price\n",
    "        self.acres=acres\n",
    "        self.rooms=rooms\n",
    "        self.location=location\n",
    "\n",
    "    def new_location(self,change_location):\n",
    "        self.location=change_location\n",
    "\n",
    "\n",
    "house1=RealEstate(\"1,000,000$\",2,8,'Jinja')\n",
    "print(house1.acres)\n",
    "print(house1.location)\n",
    "print(f\"the new location of the house is {house1.new_location('kampala')} is {house1.location}\")"
   ]
  },
  {
   "cell_type": "markdown",
   "id": "362a1bc7",
   "metadata": {},
   "source": [
    "## EXCEPTIONS "
   ]
  },
  {
   "cell_type": "markdown",
   "id": "05434bcc",
   "metadata": {},
   "source": [
    "An exception is an instance within the programme that can make the error terminate . they are like errors but not completely errors"
   ]
  },
  {
   "cell_type": "markdown",
   "id": "a9136cd8",
   "metadata": {},
   "source": [
    "## types of exceptions"
   ]
  },
  {
   "cell_type": "markdown",
   "id": "9d3368b5",
   "metadata": {},
   "source": [
    "value error a function wants an integer but a string is passed\n",
    "\n",
    "type error adding a number to a sentence\n",
    "\n",
    "zero value dividing a value by zero its not possible\n",
    "\n",
    "index error this occurs when a required index is not in the list or out of range"
   ]
  },
  {
   "cell_type": "markdown",
   "id": "3ae89ce3",
   "metadata": {},
   "source": [
    "## operations under exceptions\n",
    "\n",
    "except catches the error\n",
    "\n",
    "finally completes the exception process\n",
    "\n",
    "else if one insistance isnt satisfied this satisfies it\n",
    "\n",
    "try has the code with the error"
   ]
  },
  {
   "cell_type": "markdown",
   "id": "b794b1b3",
   "metadata": {},
   "source": [
    "## zero value error"
   ]
  },
  {
   "cell_type": "code",
   "execution_count": 2,
   "id": "a628cd71",
   "metadata": {},
   "outputs": [
    {
     "name": "stdout",
     "output_type": "stream",
     "text": [
      "impossible\n",
      "2.0\n"
     ]
    }
   ],
   "source": [
    "def division(a,b):\n",
    "    try:\n",
    "        return a/b\n",
    "    except ZeroDivisionError:\n",
    "        return 'impossible'\n",
    "print(division(3,0))\n",
    "print(division(5,2.5))    "
   ]
  },
  {
   "cell_type": "markdown",
   "id": "0ac929ca",
   "metadata": {},
   "source": [
    "## index error"
   ]
  },
  {
   "cell_type": "code",
   "execution_count": 4,
   "id": "b9c82678",
   "metadata": {},
   "outputs": [
    {
     "name": "stdout",
     "output_type": "stream",
     "text": [
      "not found\n",
      "5\n"
     ]
    }
   ],
   "source": [
    "def item_list(my_list,index):\n",
    "    try:\n",
    "        return my_list[index]\n",
    "    except IndexError:\n",
    "        return 'not found'\n",
    "list=[1,2,3,4,5,6,7,8,9,10]\n",
    "print(item_list(list,20))\n",
    "print(item_list(list,4))    "
   ]
  },
  {
   "cell_type": "markdown",
   "id": "f9adc26b",
   "metadata": {},
   "source": [
    "## value error"
   ]
  },
  {
   "cell_type": "code",
   "execution_count": 7,
   "id": "afb03698",
   "metadata": {},
   "outputs": [
    {
     "name": "stdout",
     "output_type": "stream",
     "text": [
      "45\n"
     ]
    }
   ],
   "source": [
    "def convert(user):\n",
    "    try:\n",
    "        return int(user)\n",
    "    except ValueError:\n",
    "        return 'incorrect input'\n",
    "    \n",
    "print(convert('45'))"
   ]
  }
 ],
 "metadata": {
  "kernelspec": {
   "display_name": "Python 3",
   "language": "python",
   "name": "python3"
  },
  "language_info": {
   "codemirror_mode": {
    "name": "ipython",
    "version": 3
   },
   "file_extension": ".py",
   "mimetype": "text/x-python",
   "name": "python",
   "nbconvert_exporter": "python",
   "pygments_lexer": "ipython3",
   "version": "3.13.7"
  }
 },
 "nbformat": 4,
 "nbformat_minor": 5
}
