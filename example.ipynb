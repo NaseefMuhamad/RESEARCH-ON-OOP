{
 "cells": [
  {
   "cell_type": "code",
   "execution_count": 5,
   "id": "7f476649",
   "metadata": {},
   "outputs": [
    {
     "name": "stdout",
     "output_type": "stream",
     "text": [
      "tractor\n",
      "x-series\n",
      "s-series\n",
      "blue\n"
     ]
    }
   ],
   "source": [
    "class car:\n",
    "    def __init__(self,make,model,year,colour):\n",
    "        self.make=make\n",
    "        self.model=model\n",
    "        self.year=year\n",
    "        self.colour=colour\n",
    "\n",
    "\n",
    "    def new_make(self,change_make):\n",
    "        self.make=change_make\n",
    "    def new_colour(self,change_colour):\n",
    "        self.colour=change_colour\n",
    "\n",
    "\n",
    "car1=car('tractor','x-series',2024,'orange')\n",
    "print(car1.make)\n",
    "print(car1.model)\n",
    "car1.new_make('s-series')\n",
    "print(car1.make)\n",
    "car1.new_colour('blue')\n",
    "print(car1.colour)"
   ]
  },
  {
   "cell_type": "code",
   "execution_count": 3,
   "id": "4c0d6eb0",
   "metadata": {},
   "outputs": [
    {
     "name": "stdout",
     "output_type": "stream",
     "text": [
      "woof\n",
      "home\n"
     ]
    }
   ],
   "source": [
    "class animal:\n",
    "    def __init__(self,name,sound,gender,shelter):\n",
    "        self.name=name\n",
    "        self.sound=sound\n",
    "        self.gender=gender\n",
    "        self.shelter=shelter\n",
    "    def new_shelter(self,change_shelter):\n",
    "        self.shelter=change_shelter\n",
    "animal1=animal('dog','woof','male','kraal')   \n",
    "print(animal1.sound) \n",
    "animal1.new_shelter('home')\n",
    "print(animal1.shelter)"
   ]
  }
 ],
 "metadata": {
  "kernelspec": {
   "display_name": "Python 3",
   "language": "python",
   "name": "python3"
  },
  "language_info": {
   "codemirror_mode": {
    "name": "ipython",
    "version": 3
   },
   "file_extension": ".py",
   "mimetype": "text/x-python",
   "name": "python",
   "nbconvert_exporter": "python",
   "pygments_lexer": "ipython3",
   "version": "3.13.7"
  }
 },
 "nbformat": 4,
 "nbformat_minor": 5
}
