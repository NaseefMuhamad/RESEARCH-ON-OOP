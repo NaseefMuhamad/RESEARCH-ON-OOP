{
 "cells": [
  {
   "cell_type": "markdown",
   "id": "af914404",
   "metadata": {},
   "source": [
    "## ENCAPSULATION"
   ]
  },
  {
   "cell_type": "markdown",
   "id": "619b19b3",
   "metadata": {},
   "source": [
    "Encapsulation is "
   ]
  }
 ],
 "metadata": {
  "language_info": {
   "name": "python"
  }
 },
 "nbformat": 4,
 "nbformat_minor": 5
}
